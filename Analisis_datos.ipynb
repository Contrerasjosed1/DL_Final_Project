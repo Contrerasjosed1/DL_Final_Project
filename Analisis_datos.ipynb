{
 "cells": [
  {
   "cell_type": "code",
   "execution_count": 1,
   "id": "b79bccef",
   "metadata": {},
   "outputs": [],
   "source": [
    "import os\n",
    "\n",
    "# Directorio con los archivos del corpus\n",
    "corpus_dir = \"cornell movie-dialogs corpus\"\n",
    "lines_file = os.path.join(corpus_dir, \"movie_lines.txt\")\n",
    "conversations_file = os.path.join(corpus_dir, \"movie_conversations.txt\")"
   ]
  },
  {
   "cell_type": "code",
   "execution_count": null,
   "id": "76aff8ce",
   "metadata": {},
   "outputs": [],
   "source": [
    "# Cada línea tiene 5 campos separados por \" +++$+++ \"\n",
    "id2line = {}\n",
    "with open(lines_file, encoding='utf-8', errors='ignore') as file:\n",
    "    for line in file:\n",
    "        parts = line.strip().split(\" +++$+++ \")\n",
    "        if len(parts) == 5:\n",
    "            line_id = parts[0]\n",
    "            text = parts[4]\n",
    "            id2line[line_id] = text"
   ]
  },
  {
   "cell_type": "code",
   "execution_count": 3,
   "id": "bd5b6f18",
   "metadata": {},
   "outputs": [],
   "source": [
    "pairs = []\n",
    "with open(conversations_file, encoding='utf-8', errors='ignore') as file:\n",
    "    for line in file:\n",
    "        parts = line.strip().split(\" +++$+++ \")\n",
    "        if len(parts) == 4:\n",
    "            utterance_ids = eval(parts[3])  # convierte lista de IDs en lista de Python\n",
    "            for i in range(len(utterance_ids) - 1):\n",
    "                q = id2line.get(utterance_ids[i])\n",
    "                a = id2line.get(utterance_ids[i+1])\n",
    "                if q and a:\n",
    "                    pairs.append((q.strip(), a.strip()))"
   ]
  },
  {
   "cell_type": "code",
   "execution_count": 7,
   "id": "26668b3b",
   "metadata": {},
   "outputs": [
    {
     "name": "stdout",
     "output_type": "stream",
     "text": [
      "                                            pregunta  \\\n",
      "0  Can we make this quick?  Roxanne Korrine and A...   \n",
      "1  Well, I thought we'd start with pronunciation,...   \n",
      "2  Not the hacking and gagging and spitting part....   \n",
      "3  You're asking me out.  That's so cute. What's ...   \n",
      "4  No, no, it's my fault -- we didn't have a prop...   \n",
      "\n",
      "                                           respuesta  \n",
      "0  Well, I thought we'd start with pronunciation,...  \n",
      "1  Not the hacking and gagging and spitting part....  \n",
      "2  Okay... then how 'bout we try out some French ...  \n",
      "3                                         Forget it.  \n",
      "4                                           Cameron.  \n"
     ]
    }
   ],
   "source": [
    "import pandas as pd\n",
    "\n",
    "# Crear el DataFrame\n",
    "df_chat = pd.DataFrame(pairs, columns=[\"pregunta\", \"respuesta\"])\n",
    "\n",
    "# Mostrar las primeras filas\n",
    "print(df_chat.head())"
   ]
  },
  {
   "cell_type": "code",
   "execution_count": 8,
   "id": "7f4777e9",
   "metadata": {},
   "outputs": [
    {
     "data": {
      "text/plain": [
       "(221282, 2)"
      ]
     },
     "execution_count": 8,
     "metadata": {},
     "output_type": "execute_result"
    }
   ],
   "source": [
    "df_chat.shape"
   ]
  },
  {
   "cell_type": "code",
   "execution_count": 10,
   "id": "b02bc66f",
   "metadata": {},
   "outputs": [],
   "source": [
    "df_chat.to_csv(\"dataset_chatbot.csv\", index=False)"
   ]
  }
 ],
 "metadata": {
  "kernelspec": {
   "display_name": "base",
   "language": "python",
   "name": "python3"
  },
  "language_info": {
   "codemirror_mode": {
    "name": "ipython",
    "version": 3
   },
   "file_extension": ".py",
   "mimetype": "text/x-python",
   "name": "python",
   "nbconvert_exporter": "python",
   "pygments_lexer": "ipython3",
   "version": "3.11.8"
  }
 },
 "nbformat": 4,
 "nbformat_minor": 5
}
